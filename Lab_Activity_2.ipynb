{
  "nbformat": 4,
  "nbformat_minor": 0,
  "metadata": {
    "colab": {
      "provenance": [],
      "authorship_tag": "ABX9TyPcTqymFdcRhsraa4E/xtbc",
      "include_colab_link": true
    },
    "kernelspec": {
      "name": "python3",
      "display_name": "Python 3"
    },
    "language_info": {
      "name": "python"
    }
  },
  "cells": [
    {
      "cell_type": "markdown",
      "metadata": {
        "id": "view-in-github",
        "colab_type": "text"
      },
      "source": [
        "<a href=\"https://colab.research.google.com/github/SamanthaLapena/58002_OOP/blob/main/Lab_Activity_2.ipynb\" target=\"_parent\"><img src=\"https://colab.research.google.com/assets/colab-badge.svg\" alt=\"Open In Colab\"/></a>"
      ]
    },
    {
      "cell_type": "markdown",
      "source": [
        "1. Write a Python program that asks the user to enter the radius of a circle andsolve its area and perimeter."
      ],
      "metadata": {
        "id": "qalARVvT2mJ6"
      }
    },
    {
      "cell_type": "code",
      "execution_count": 1,
      "metadata": {
        "colab": {
          "base_uri": "https://localhost:8080/"
        },
        "id": "cCyrEcWk2Xhk",
        "outputId": "5d4e221a-0058-4707-e07d-51cfe343d92c"
      },
      "outputs": [
        {
          "output_type": "stream",
          "name": "stdout",
          "text": [
            "Enter the radius of the circle: 5\n",
            "The area of the circle is 78.54\n",
            "The perimeter of the circle is 31.42\n"
          ]
        }
      ],
      "source": [
        "import math\n",
        "\n",
        "radius = float(input(\"Enter the radius of the circle: \"))\n",
        "area = math.pi * radius ** 2\n",
        "perimeter = 2 * math.pi * radius\n",
        "print(f\"The area of the circle is {area:.2f}\")\n",
        "print(f\"The perimeter of the circle is {perimeter:.2f}\")\n"
      ]
    },
    {
      "cell_type": "markdown",
      "source": [
        "2. Create a class name Circle allowing you to build a circle with radius and pi attributes."
      ],
      "metadata": {
        "id": "sdMJ5rDy24Z7"
      }
    },
    {
      "cell_type": "code",
      "source": [
        "class Circle:\n",
        "    def __init__(self, radius, pi=3.14159):\n",
        "        self.radius = radius\n",
        "        self.pi = pi\n",
        "\n",
        "    def perimeter(self):\n",
        "        return 2 * self.pi * self.radius\n",
        "\n",
        "    def area(self):\n",
        "        return self.pi * self.radius ** 2\n",
        "\n",
        "circle = Circle(4)\n",
        "print(\"Perimeter:\", circle.perimeter())\n",
        "print(\"Area:\", circle.area())"
      ],
      "metadata": {
        "colab": {
          "base_uri": "https://localhost:8080/"
        },
        "id": "xMtnCwlM6v96",
        "outputId": "454bd2fc-8886-4450-d193-56951bf43ff5"
      },
      "execution_count": 10,
      "outputs": [
        {
          "output_type": "stream",
          "name": "stdout",
          "text": [
            "Perimeter: 25.13272\n",
            "Area: 50.26544\n"
          ]
        }
      ]
    },
    {
      "cell_type": "markdown",
      "source": [
        "3. Create a method Display() the perimeter and area using an instantiation of a class"
      ],
      "metadata": {
        "id": "tYrVO8N74B8_"
      }
    },
    {
      "cell_type": "code",
      "source": [
        "class Circle:\n",
        "    def __init__(self, radius, pi=3.14159):\n",
        "        self.radius = radius\n",
        "        self.pi = pi\n",
        "    \n",
        "    def area(self):\n",
        "        return self.pi * (self.radius ** 2)\n",
        "    \n",
        "    def circumference(self):\n",
        "        return 2 * self.pi * self.radius\n",
        "    \n",
        "    def Display(self):\n",
        "        print(\"Radius:\", self.radius)\n",
        "        print(\"Area:\", self.area())\n",
        "        print(\"Perimeter:\", self.circumference())\n",
        "\n",
        "my_circle = Circle(10)\n",
        "\n",
        "my_circle.Display()\n",
        "\n"
      ],
      "metadata": {
        "colab": {
          "base_uri": "https://localhost:8080/"
        },
        "id": "Hr5ihfwN4Gwh",
        "outputId": "c8e11592-995e-4d62-c614-6833712cef00"
      },
      "execution_count": 22,
      "outputs": [
        {
          "output_type": "stream",
          "name": "stdout",
          "text": [
            "Radius: 10\n",
            "Area: 314.159\n",
            "Perimeter: 62.8318\n"
          ]
        }
      ]
    },
    {
      "cell_type": "markdown",
      "source": [
        "4. Create a Perimeter() method to calculate the perimeter of the circle and an Area() method to calculate the area of the circle"
      ],
      "metadata": {
        "id": "BrUKQ9K04DuH"
      }
    },
    {
      "cell_type": "code",
      "source": [
        "import math\n",
        "\n",
        "class Circle:\n",
        "    def __init__(self, radius):\n",
        "        self.radius = radius\n",
        "    \n",
        "    def perimeter(self):\n",
        "        return 2 * math.pi * self.radius\n",
        "    \n",
        "    def area(self):\n",
        "        return math.pi * self.radius ** 2\n",
        "\n",
        "circle = Circle(3)\n",
        "print(\"Perimeter:\", circle.perimeter()) \n",
        "print(\"Area:\", circle.area()) \n"
      ],
      "metadata": {
        "colab": {
          "base_uri": "https://localhost:8080/"
        },
        "id": "5ZctYx_A6wn_",
        "outputId": "be0b1868-9f8b-4e7a-e739-9ceff22dc740"
      },
      "execution_count": 5,
      "outputs": [
        {
          "output_type": "stream",
          "name": "stdout",
          "text": [
            "Perimeter: 18.84955592153876\n",
            "Area: 28.274333882308138\n"
          ]
        }
      ]
    }
  ]
}