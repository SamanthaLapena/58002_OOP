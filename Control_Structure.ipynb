{
  "nbformat": 4,
  "nbformat_minor": 0,
  "metadata": {
    "colab": {
      "provenance": [],
      "authorship_tag": "ABX9TyPj1AxICmkyH94vsBqA0qXN",
      "include_colab_link": true
    },
    "kernelspec": {
      "name": "python3",
      "display_name": "Python 3"
    },
    "language_info": {
      "name": "python"
    }
  },
  "cells": [
    {
      "cell_type": "markdown",
      "metadata": {
        "id": "view-in-github",
        "colab_type": "text"
      },
      "source": [
        "<a href=\"https://colab.research.google.com/github/SamanthaLapena/58002_OOP/blob/main/Control_Structure.ipynb\" target=\"_parent\"><img src=\"https://colab.research.google.com/assets/colab-badge.svg\" alt=\"Open In Colab\"/></a>"
      ]
    },
    {
      "cell_type": "markdown",
      "source": [
        "If Statement"
      ],
      "metadata": {
        "id": "Lspsz5Kmgo_c"
      }
    },
    {
      "cell_type": "code",
      "source": [
        "a = 50\n",
        "b = 100\n",
        "if a>b:\n",
        "  print(\"b is greater than a\")"
      ],
      "metadata": {
        "id": "R5VO80xrhE9T"
      },
      "execution_count": 22,
      "outputs": []
    },
    {
      "cell_type": "markdown",
      "source": [
        "Elif Statements"
      ],
      "metadata": {
        "id": "lqOgxKfIhpU8"
      }
    },
    {
      "cell_type": "code",
      "source": [
        "a = 12\n",
        "b = 12\n",
        "if b > a:\n",
        "  print(\"b is greater than a\")\n",
        "elif a==b:\n",
        "  print(\"a and b are equal\")"
      ],
      "metadata": {
        "colab": {
          "base_uri": "https://localhost:8080/"
        },
        "id": "eqcqk-5dhsLM",
        "outputId": "378ecdaa-6335-4845-84c6-90ca418b7100"
      },
      "execution_count": 23,
      "outputs": [
        {
          "output_type": "stream",
          "name": "stdout",
          "text": [
            "a and b are equal\n"
          ]
        }
      ]
    },
    {
      "cell_type": "markdown",
      "source": [
        "Else Statements"
      ],
      "metadata": {
        "id": "gZeh7y43iNEW"
      }
    },
    {
      "cell_type": "code",
      "source": [
        "a = 200\n",
        "b = 33\n",
        "if b > a:\n",
        "  print(\"b is greater than a\")\n",
        "elif a==b:\n",
        "  print(\"a and b are equal\")\n",
        "else:\n",
        "  print(\"a is greater than b\")"
      ],
      "metadata": {
        "colab": {
          "base_uri": "https://localhost:8080/"
        },
        "id": "TFn16KCeiNns",
        "outputId": "de36fa49-6cfe-490a-9a2d-7c072ae2fa77"
      },
      "execution_count": 6,
      "outputs": [
        {
          "output_type": "stream",
          "name": "stdout",
          "text": [
            "a is greater than b\n"
          ]
        }
      ]
    },
    {
      "cell_type": "markdown",
      "source": [
        "Short Hand If Statement"
      ],
      "metadata": {
        "id": "F3m_soZNiYeM"
      }
    },
    {
      "cell_type": "code",
      "source": [
        "if a==b:\n",
        "  print(\"a is equal to b\")"
      ],
      "metadata": {
        "colab": {
          "base_uri": "https://localhost:8080/"
        },
        "id": "x5vqbLEimUeT",
        "outputId": "0ae37cd9-87fb-4ec7-b860-431ebef72ba0"
      },
      "execution_count": 26,
      "outputs": [
        {
          "output_type": "stream",
          "name": "stdout",
          "text": [
            "a is equal to b\n"
          ]
        }
      ]
    },
    {
      "cell_type": "code",
      "source": [
        "if a > b: \n",
        "  print(\"a is greater than b\")"
      ],
      "metadata": {
        "colab": {
          "base_uri": "https://localhost:8080/"
        },
        "id": "K0R7v_zhiY-c",
        "outputId": "28ba5033-e2ed-4b58-9104-f0a5977adc7d"
      },
      "execution_count": 7,
      "outputs": [
        {
          "output_type": "stream",
          "name": "stdout",
          "text": [
            "a is greater than b\n"
          ]
        }
      ]
    },
    {
      "cell_type": "markdown",
      "source": [
        "Short Hand If..Else Statement"
      ],
      "metadata": {
        "id": "CwZvyAsdigL8"
      }
    },
    {
      "cell_type": "code",
      "source": [
        "a = 2\n",
        "b = 330\n",
        "print(\"A\") if a > b else print(\"B\")"
      ],
      "metadata": {
        "colab": {
          "base_uri": "https://localhost:8080/"
        },
        "id": "Mn3uZaNViiOj",
        "outputId": "d2201993-6db3-4f86-a5a8-949bf0c6ab83"
      },
      "execution_count": 8,
      "outputs": [
        {
          "output_type": "stream",
          "name": "stdout",
          "text": [
            "B\n"
          ]
        }
      ]
    },
    {
      "cell_type": "markdown",
      "source": [
        "And Condition"
      ],
      "metadata": {
        "id": "M1j7Aw-xnfTS"
      }
    },
    {
      "cell_type": "code",
      "source": [
        "s = 75\n",
        "t = 70\n",
        "\n",
        "if s>t and t<s:\n",
        "  print(\"s > t\")"
      ],
      "metadata": {
        "colab": {
          "base_uri": "https://localhost:8080/"
        },
        "id": "hNaWJrPVng3a",
        "outputId": "b58483b1-4fef-45ec-a0bb-ed2fd275e1e9"
      },
      "execution_count": 34,
      "outputs": [
        {
          "output_type": "stream",
          "name": "stdout",
          "text": [
            "s > t\n"
          ]
        }
      ]
    },
    {
      "cell_type": "markdown",
      "source": [
        "And-both conditions are true"
      ],
      "metadata": {
        "id": "GsjECud_io6L"
      }
    },
    {
      "cell_type": "code",
      "source": [
        "a = 200\n",
        "b = 33\n",
        "c = 500\n",
        "if a > b and c > a:\n",
        "  print(\"Both conditions are True\")"
      ],
      "metadata": {
        "colab": {
          "base_uri": "https://localhost:8080/"
        },
        "id": "p1QZXR5Kirkj",
        "outputId": "8dc5070c-fc4c-4fe7-de8b-94ef83bc10de"
      },
      "execution_count": 9,
      "outputs": [
        {
          "output_type": "stream",
          "name": "stdout",
          "text": [
            "Both conditions are True\n"
          ]
        }
      ]
    },
    {
      "cell_type": "markdown",
      "source": [
        "Or Condition"
      ],
      "metadata": {
        "id": "bqMpZWP2oAhj"
      }
    },
    {
      "cell_type": "code",
      "source": [
        "print(\"s>t or t<s\")"
      ],
      "metadata": {
        "colab": {
          "base_uri": "https://localhost:8080/"
        },
        "id": "zVzQu1mNoK8j",
        "outputId": "b8f3a36c-2030-4f7e-f21d-f7db96a6e27d"
      },
      "execution_count": 36,
      "outputs": [
        {
          "output_type": "stream",
          "name": "stdout",
          "text": [
            "s>t or t<s\n"
          ]
        }
      ]
    },
    {
      "cell_type": "markdown",
      "source": [
        "Or-at least one of the conditionsis true"
      ],
      "metadata": {
        "id": "AO9xiaRXi22U"
      }
    },
    {
      "cell_type": "code",
      "source": [
        "a = 200\n",
        "b = 33\n",
        "c = 500\n",
        "if a > b or a > c:\n",
        "  print(\"At least one of the conditions is True\")"
      ],
      "metadata": {
        "id": "qiBE7DQpi3VU"
      },
      "execution_count": null,
      "outputs": []
    },
    {
      "cell_type": "markdown",
      "source": [
        "Nested If.."
      ],
      "metadata": {
        "id": "1lYyaMTsi9P8"
      }
    },
    {
      "cell_type": "code",
      "source": [
        "x = float(input())\n",
        "if x> 10:\n",
        "  print(\"Above 10\")\n",
        "else:\n",
        "  print(\"Below 10\")\n",
        "if x> 20:\n",
        "  print(\"Above 20\")\n",
        "else:\n",
        "  print(\"Below 20\")\n",
        "if x> 30:\n",
        "  print(\"Above 30\")\n",
        "else:\n",
        "  print(\"Below 30\")\n",
        "if x> 40:\n",
        "  print(\"Above 40\")\n",
        "else:\n",
        "  print(\"Below 40\")\n",
        "if x> 50:\n",
        "  print(\"Above 50\")\n",
        "else:\n",
        "  print(\"Below 50\")"
      ],
      "metadata": {
        "id": "fx-8DNNWjBGk"
      },
      "execution_count": null,
      "outputs": []
    },
    {
      "cell_type": "markdown",
      "source": [
        "Example 1"
      ],
      "metadata": {
        "id": "F8M2pPe5jYeb"
      }
    },
    {
      "cell_type": "code",
      "source": [
        "age = int(input(\"Enter your age:\"))\n",
        "\n",
        "if age >= 18:\n",
        "  print(\"Qualified to vote\")\n",
        "else:\n",
        "  print(\"Not Qualified to vote\")\n"
      ],
      "metadata": {
        "id": "pTzFgx7wjarD"
      },
      "execution_count": null,
      "outputs": []
    },
    {
      "cell_type": "markdown",
      "source": [
        "Example 2"
      ],
      "metadata": {
        "id": "nbxu-C13kSDb"
      }
    },
    {
      "cell_type": "code",
      "source": [
        "num = float(input(\"Enter a number: \"))\n",
        "if num > 0:\n",
        "   print(\"It is positive number\")\n",
        "elif num == 0:\n",
        "   print(\"It is Zero\")\n",
        "else:\n",
        "   print(\"It is a negative number\")"
      ],
      "metadata": {
        "colab": {
          "base_uri": "https://localhost:8080/"
        },
        "id": "hZ9LE9D4kUYU",
        "outputId": "33c909fa-a848-4e5c-910a-e8b1ec3dbd35"
      },
      "execution_count": 59,
      "outputs": [
        {
          "output_type": "stream",
          "name": "stdout",
          "text": [
            "Enter a number: 0\n",
            "It is Zero\n"
          ]
        }
      ]
    },
    {
      "cell_type": "markdown",
      "source": [
        "Example 3"
      ],
      "metadata": {
        "id": "R312z_eKkknz"
      }
    },
    {
      "cell_type": "code",
      "source": [
        "grade = float(input(\"Enter your grade:\"))\n",
        "\n",
        "if grade>=70:\n",
        "   print(\"Passed\")\n",
        "if grade<=65-69:\n",
        "   print(\"Remedial\")\n",
        "if grade<64:\n",
        "    print(\"Failed\")\n",
        "  "
      ],
      "metadata": {
        "colab": {
          "base_uri": "https://localhost:8080/"
        },
        "id": "MWjCRDcbmpvz",
        "outputId": "a541ad10-a1cf-4a62-e4c9-94a5019828a1"
      },
      "execution_count": 58,
      "outputs": [
        {
          "output_type": "stream",
          "name": "stdout",
          "text": [
            "Enter your grade:10\n",
            "Failed\n"
          ]
        }
      ]
    }
  ]
}