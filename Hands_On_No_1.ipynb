{
  "nbformat": 4,
  "nbformat_minor": 0,
  "metadata": {
    "colab": {
      "provenance": [],
      "authorship_tag": "ABX9TyOLkhNvvLtYE0Tsy9A3iYUT",
      "include_colab_link": true
    },
    "kernelspec": {
      "name": "python3",
      "display_name": "Python 3"
    },
    "language_info": {
      "name": "python"
    }
  },
  "cells": [
    {
      "cell_type": "markdown",
      "metadata": {
        "id": "view-in-github",
        "colab_type": "text"
      },
      "source": [
        "<a href=\"https://colab.research.google.com/github/SamanthaLapena/58002_OOP/blob/main/Hands_On_No_1.ipynb\" target=\"_parent\"><img src=\"https://colab.research.google.com/assets/colab-badge.svg\" alt=\"Open In Colab\"/></a>"
      ]
    },
    {
      "cell_type": "markdown",
      "source": [
        "Create a Python program that displays the name of three students (Student 1, Student 2, and Student 3) and the term grades\n",
        "\n",
        "Create a class name Person and attributes - std1, std2, std3, prelim, midterm, finals\n",
        "\n",
        "Compute the average of each term grade using Grade() method\n",
        "\n",
        "Information about student's grades must be hidden from others"
      ],
      "metadata": {
        "id": "QUjHgZwq-Fpb"
      }
    },
    {
      "cell_type": "code",
      "execution_count": 20,
      "metadata": {
        "colab": {
          "base_uri": "https://localhost:8080/"
        },
        "id": "dR1VJnhq7nQu",
        "outputId": "66a931ad-37d0-42bc-9e2c-4752454d6b9b"
      },
      "outputs": [
        {
          "output_type": "stream",
          "name": "stdout",
          "text": [
            "Grades:\n",
            "{'Student 1': {'prelim': 88, 'midterm': 89, 'finals': 93}, 'Student 2': {'prelim': 90, 'midterm': 92, 'finals': 95}, 'Student 3': {'prelim': 92, 'midterm': 95, 'finals': 97}}\n",
            "\n",
            "Averages:\n",
            "{'Student 1': 90.0, 'Student 2': 92.33333333333333, 'Student 3': 94.66666666666667, 'Prelim Average': 90.0, 'Midterm Average': 92.0, 'Finals Average': 95.0}\n"
          ]
        }
      ],
      "source": [
        "class Person:\n",
        "    def __init__(self, std1, std2, std3, prelim, midterm, finals):\n",
        "        self.__std1 = std1\n",
        "        self.__std2 = std2\n",
        "        self.__std3 = std3\n",
        "        self.__prelim = prelim\n",
        "        self.__midterm = midterm\n",
        "        self.__finals = finals\n",
        "\n",
        "    def __calculate_average(self, grade1, grade2, grade3):\n",
        "        return (grade1 + grade2 + grade3) / 3\n",
        "\n",
        "    def get_grades(self):\n",
        "        return {\n",
        "            \"Student 1\": {\n",
        "                \"prelim\": self.__prelim[0],\n",
        "                \"midterm\": self.__midterm[0],\n",
        "                \"finals\": self.__finals[0],\n",
        "            },\n",
        "            \"Student 2\": {\n",
        "                \"prelim\": self.__prelim[1],\n",
        "                \"midterm\": self.__midterm[1],\n",
        "                \"finals\": self.__finals[1],\n",
        "            },\n",
        "            \"Student 3\": {\n",
        "                \"prelim\": self.__prelim[2],\n",
        "                \"midterm\": self.__midterm[2],\n",
        "                \"finals\": self.__finals[2],\n",
        "            },\n",
        "        }\n",
        "\n",
        "    def get_averages(self):\n",
        "        prelim_avg = self.__calculate_average(\n",
        "            self.__prelim[0], self.__prelim[1], self.__prelim[2]\n",
        "        )\n",
        "        midterm_avg = self.__calculate_average(\n",
        "            self.__midterm[0], self.__midterm[1], self.__midterm[2]\n",
        "        )\n",
        "        finals_avg = self.__calculate_average(\n",
        "            self.__finals[0], self.__finals[1], self.__finals[2]\n",
        "        )\n",
        "        return {\n",
        "            \"Student 1\": self.__calculate_average(\n",
        "                self.__prelim[0], self.__midterm[0], self.__finals[0]\n",
        "            ),\n",
        "            \"Student 2\": self.__calculate_average(\n",
        "                self.__prelim[1], self.__midterm[1], self.__finals[1]\n",
        "            ),\n",
        "            \"Student 3\": self.__calculate_average(\n",
        "                self.__prelim[2], self.__midterm[2], self.__finals[2]\n",
        "            ),\n",
        "            \"Prelim Average\": prelim_avg,\n",
        "            \"Midterm Average\": midterm_avg,\n",
        "            \"Finals Average\": finals_avg,\n",
        "        }\n",
        "\n",
        "\n",
        "person = Person(\n",
        "    \"Student 1\",\n",
        "    \"Student 2\",\n",
        "    \"Student 3\",\n",
        "    [88, 90, 92],\n",
        "    [89, 92, 95],\n",
        "    [93, 95, 97],\n",
        ")\n",
        "\n",
        "print(\"Grades:\")\n",
        "print(person.get_grades())\n",
        "\n",
        "print(\"\\nAverages:\")\n",
        "print(person.get_averages())\n"
      ]
    }
  ]
}